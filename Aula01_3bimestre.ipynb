{
  "nbformat": 4,
  "nbformat_minor": 0,
  "metadata": {
    "colab": {
      "provenance": [],
      "authorship_tag": "ABX9TyOAvTPv9AZ7CG6hWtVwF24M",
      "include_colab_link": true
    },
    "kernelspec": {
      "name": "python3",
      "display_name": "Python 3"
    },
    "language_info": {
      "name": "python"
    }
  },
  "cells": [
    {
      "cell_type": "markdown",
      "metadata": {
        "id": "view-in-github",
        "colab_type": "text"
      },
      "source": [
        "<a href=\"https://colab.research.google.com/github/thomcoradi/Aulas-Python/blob/main/Aula01_3bimestre.ipynb\" target=\"_parent\"><img src=\"https://colab.research.google.com/assets/colab-badge.svg\" alt=\"Open In Colab\"/></a>"
      ]
    },
    {
      "cell_type": "markdown",
      "source": [
        "exemplo 1 - somando dois números"
      ],
      "metadata": {
        "id": "LfPA6nFCFhAe"
      }
    },
    {
      "cell_type": "code",
      "source": [
        "n1 = 12\n",
        "n2 = 10\n",
        "soma = n1 + n2\n",
        "soma"
      ],
      "metadata": {
        "colab": {
          "base_uri": "https://localhost:8080/"
        },
        "id": "QCdKJp_2Fr52",
        "outputId": "b1fd460d-1e9d-4fa9-8af7-f446509e0a93"
      },
      "execution_count": 1,
      "outputs": [
        {
          "output_type": "execute_result",
          "data": {
            "text/plain": [
              "22"
            ]
          },
          "metadata": {},
          "execution_count": 1
        }
      ]
    },
    {
      "cell_type": "code",
      "source": [
        "print(\"A soma é: \",soma)"
      ],
      "metadata": {
        "colab": {
          "base_uri": "https://localhost:8080/"
        },
        "id": "gjaSAQdjGEOI",
        "outputId": "474345f8-c43a-413d-9c6b-32f9d9e20284"
      },
      "execution_count": 2,
      "outputs": [
        {
          "output_type": "stream",
          "name": "stdout",
          "text": [
            "A soma é:  22\n"
          ]
        }
      ]
    },
    {
      "cell_type": "code",
      "source": [
        "print(\"A soma é {}\".format(soma))"
      ],
      "metadata": {
        "colab": {
          "base_uri": "https://localhost:8080/"
        },
        "id": "hhKnJg2XGc59",
        "outputId": "17e62074-48ca-492b-96d8-9a8213305d88"
      },
      "execution_count": 3,
      "outputs": [
        {
          "output_type": "stream",
          "name": "stdout",
          "text": [
            "A soma é 22\n"
          ]
        }
      ]
    },
    {
      "cell_type": "code",
      "source": [
        "print(\"A soma de {} com {} é {}\".format(n1,n2,soma))"
      ],
      "metadata": {
        "colab": {
          "base_uri": "https://localhost:8080/"
        },
        "id": "J7Ww6w0xHAv0",
        "outputId": "f1f920f1-1029-4c73-de24-486687eb0978"
      },
      "execution_count": 5,
      "outputs": [
        {
          "output_type": "stream",
          "name": "stdout",
          "text": [
            "A soma de 12 com 10 é 22\n"
          ]
        }
      ]
    },
    {
      "cell_type": "code",
      "source": [],
      "metadata": {
        "id": "Pb5AXYUrHz7y"
      },
      "execution_count": null,
      "outputs": []
    },
    {
      "cell_type": "markdown",
      "source": [
        "Operadores Aritméticos"
      ],
      "metadata": {
        "id": "qsg8KmxCINC2"
      }
    },
    {
      "cell_type": "code",
      "source": [
        "10 + 10"
      ],
      "metadata": {
        "colab": {
          "base_uri": "https://localhost:8080/"
        },
        "id": "eJIkSVv2IRUz",
        "outputId": "7586370d-dc26-4fbb-e9ee-ca41e1fa68e5"
      },
      "execution_count": 6,
      "outputs": [
        {
          "output_type": "execute_result",
          "data": {
            "text/plain": [
              "20"
            ]
          },
          "metadata": {},
          "execution_count": 6
        }
      ]
    },
    {
      "cell_type": "code",
      "source": [
        "10 - 5"
      ],
      "metadata": {
        "colab": {
          "base_uri": "https://localhost:8080/"
        },
        "id": "B3Qmzz3OITlb",
        "outputId": "7e1d51e0-4e33-4839-a08a-485e184b3a60"
      },
      "execution_count": 7,
      "outputs": [
        {
          "output_type": "execute_result",
          "data": {
            "text/plain": [
              "5"
            ]
          },
          "metadata": {},
          "execution_count": 7
        }
      ]
    },
    {
      "cell_type": "code",
      "source": [
        "10 / 3"
      ],
      "metadata": {
        "colab": {
          "base_uri": "https://localhost:8080/"
        },
        "id": "OTdr5jobIVnD",
        "outputId": "9b18cf62-ab87-466b-d78a-f9aef575100d"
      },
      "execution_count": 8,
      "outputs": [
        {
          "output_type": "execute_result",
          "data": {
            "text/plain": [
              "3.3333333333333335"
            ]
          },
          "metadata": {},
          "execution_count": 8
        }
      ]
    },
    {
      "cell_type": "code",
      "source": [
        "10 // 3"
      ],
      "metadata": {
        "colab": {
          "base_uri": "https://localhost:8080/"
        },
        "id": "izVLOLUwIegz",
        "outputId": "3a15e51b-c2a7-4a8e-c643-2ada6a095590"
      },
      "execution_count": 9,
      "outputs": [
        {
          "output_type": "execute_result",
          "data": {
            "text/plain": [
              "3"
            ]
          },
          "metadata": {},
          "execution_count": 9
        }
      ]
    },
    {
      "cell_type": "code",
      "source": [
        "10 // 2"
      ],
      "metadata": {
        "colab": {
          "base_uri": "https://localhost:8080/"
        },
        "id": "dBRDC9HkIsRs",
        "outputId": "bc75f977-a0f9-49c0-a043-d161df663ae3"
      },
      "execution_count": 10,
      "outputs": [
        {
          "output_type": "execute_result",
          "data": {
            "text/plain": [
              "5"
            ]
          },
          "metadata": {},
          "execution_count": 10
        }
      ]
    },
    {
      "cell_type": "code",
      "source": [
        "10 / 2"
      ],
      "metadata": {
        "colab": {
          "base_uri": "https://localhost:8080/"
        },
        "id": "ZPDlunJrIuOU",
        "outputId": "100f37a5-9a5a-4d28-fcf5-7515750645ed"
      },
      "execution_count": 11,
      "outputs": [
        {
          "output_type": "execute_result",
          "data": {
            "text/plain": [
              "5.0"
            ]
          },
          "metadata": {},
          "execution_count": 11
        }
      ]
    },
    {
      "cell_type": "code",
      "source": [
        "64**(1/2)"
      ],
      "metadata": {
        "colab": {
          "base_uri": "https://localhost:8080/"
        },
        "id": "WpkPyRK_IwXj",
        "outputId": "bebd0817-493d-4f25-99c8-fdd6eae33d31"
      },
      "execution_count": 12,
      "outputs": [
        {
          "output_type": "execute_result",
          "data": {
            "text/plain": [
              "8.0"
            ]
          },
          "metadata": {},
          "execution_count": 12
        }
      ]
    },
    {
      "cell_type": "code",
      "source": [],
      "metadata": {
        "id": "vwSYWVNEJiqM"
      },
      "execution_count": null,
      "outputs": []
    },
    {
      "cell_type": "markdown",
      "source": [
        "Operadores Lógicos"
      ],
      "metadata": {
        "id": "5yMtFngiJ6pO"
      }
    },
    {
      "cell_type": "code",
      "source": [
        "a = True\n",
        "b = False"
      ],
      "metadata": {
        "id": "6LhNqo62J9vF"
      },
      "execution_count": 14,
      "outputs": []
    },
    {
      "cell_type": "code",
      "source": [
        "a and b"
      ],
      "metadata": {
        "colab": {
          "base_uri": "https://localhost:8080/"
        },
        "id": "3izWuzvgKkBP",
        "outputId": "93081bbf-b52e-411c-a1fa-92480a22d356"
      },
      "execution_count": 15,
      "outputs": [
        {
          "output_type": "execute_result",
          "data": {
            "text/plain": [
              "False"
            ]
          },
          "metadata": {},
          "execution_count": 15
        }
      ]
    },
    {
      "cell_type": "markdown",
      "source": [
        "(![image.png](data:image/png;base64,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)"
      ],
      "metadata": {
        "id": "CSGcIslMMXfX"
      }
    },
    {
      "cell_type": "markdown",
      "source": [
        "Operadores Relacionais"
      ],
      "metadata": {
        "id": "DQ-CwlSVNCPR"
      }
    },
    {
      "cell_type": "code",
      "source": [
        "10 > 10"
      ],
      "metadata": {
        "colab": {
          "base_uri": "https://localhost:8080/"
        },
        "id": "cwQKrBVRNIkj",
        "outputId": "f0e326ab-12a8-4ab9-cdd3-326aa0aeaa48"
      },
      "execution_count": 16,
      "outputs": [
        {
          "output_type": "execute_result",
          "data": {
            "text/plain": [
              "False"
            ]
          },
          "metadata": {},
          "execution_count": 16
        }
      ]
    },
    {
      "cell_type": "code",
      "source": [
        "10 == 10"
      ],
      "metadata": {
        "colab": {
          "base_uri": "https://localhost:8080/"
        },
        "id": "qjjH3cSINaRN",
        "outputId": "db5b82c1-3621-4994-80fc-8a35507b0594"
      },
      "execution_count": 17,
      "outputs": [
        {
          "output_type": "execute_result",
          "data": {
            "text/plain": [
              "True"
            ]
          },
          "metadata": {},
          "execution_count": 17
        }
      ]
    },
    {
      "cell_type": "code",
      "source": [
        "'A' == 'a'"
      ],
      "metadata": {
        "colab": {
          "base_uri": "https://localhost:8080/"
        },
        "id": "Tk1yEKjnNhq_",
        "outputId": "c9f760f1-e468-481d-9da1-c633e1bfbf26"
      },
      "execution_count": 19,
      "outputs": [
        {
          "output_type": "execute_result",
          "data": {
            "text/plain": [
              "False"
            ]
          },
          "metadata": {},
          "execution_count": 19
        }
      ]
    },
    {
      "cell_type": "code",
      "source": [
        "t1 = 10\n",
        "t2 = '10'\n",
        "t1 == t2"
      ],
      "metadata": {
        "colab": {
          "base_uri": "https://localhost:8080/"
        },
        "id": "sqXiEXkENsLP",
        "outputId": "c95d586f-c93a-4607-bbec-909941c2cbfc"
      },
      "execution_count": 21,
      "outputs": [
        {
          "output_type": "execute_result",
          "data": {
            "text/plain": [
              "False"
            ]
          },
          "metadata": {},
          "execution_count": 21
        }
      ]
    },
    {
      "cell_type": "code",
      "source": [
        "type(t2)"
      ],
      "metadata": {
        "colab": {
          "base_uri": "https://localhost:8080/"
        },
        "id": "xxrmHQTOO_O2",
        "outputId": "900f5e6e-2be4-4826-f275-85f61353718f"
      },
      "execution_count": 22,
      "outputs": [
        {
          "output_type": "execute_result",
          "data": {
            "text/plain": [
              "str"
            ]
          },
          "metadata": {},
          "execution_count": 22
        }
      ]
    },
    {
      "cell_type": "markdown",
      "source": [
        "Conversão de tipos"
      ],
      "metadata": {
        "id": "tR6-lh-mPEI4"
      }
    },
    {
      "cell_type": "code",
      "source": [
        "novo_t2 = int(t2)\n",
        "novo_t2"
      ],
      "metadata": {
        "colab": {
          "base_uri": "https://localhost:8080/"
        },
        "id": "S7Ehrhe-PJg5",
        "outputId": "2545116e-a0f9-4033-ec07-eb91f793a295"
      },
      "execution_count": 24,
      "outputs": [
        {
          "output_type": "execute_result",
          "data": {
            "text/plain": [
              "10"
            ]
          },
          "metadata": {},
          "execution_count": 24
        }
      ]
    },
    {
      "cell_type": "code",
      "source": [
        "type(novo_t2)"
      ],
      "metadata": {
        "colab": {
          "base_uri": "https://localhost:8080/"
        },
        "id": "1CqkYexiPVRJ",
        "outputId": "230aad7a-cd47-4161-fef1-1547fe6783f2"
      },
      "execution_count": 25,
      "outputs": [
        {
          "output_type": "execute_result",
          "data": {
            "text/plain": [
              "int"
            ]
          },
          "metadata": {},
          "execution_count": 25
        }
      ]
    },
    {
      "cell_type": "code",
      "source": [
        "t1 == novo_t2"
      ],
      "metadata": {
        "colab": {
          "base_uri": "https://localhost:8080/"
        },
        "id": "rarCZQVaPtsp",
        "outputId": "16c649d4-adbe-463f-ec8b-8b491c0318c8"
      },
      "execution_count": 26,
      "outputs": [
        {
          "output_type": "execute_result",
          "data": {
            "text/plain": [
              "True"
            ]
          },
          "metadata": {},
          "execution_count": 26
        }
      ]
    },
    {
      "cell_type": "code",
      "source": [],
      "metadata": {
        "id": "aPcEveaSPPPq"
      },
      "execution_count": null,
      "outputs": []
    },
    {
      "cell_type": "markdown",
      "source": [
        "Recebendo dados via input"
      ],
      "metadata": {
        "id": "XWZ8ToqEP2NO"
      }
    },
    {
      "cell_type": "code",
      "source": [
        "nome = input('Digite seu nome ')"
      ],
      "metadata": {
        "colab": {
          "base_uri": "https://localhost:8080/"
        },
        "id": "MN9gvi3mP5y9",
        "outputId": "f3755eb0-315c-4cee-a66a-158b7080a6e8"
      },
      "execution_count": 29,
      "outputs": [
        {
          "name": "stdout",
          "output_type": "stream",
          "text": [
            "Digite seu nome Thomas\n"
          ]
        }
      ]
    },
    {
      "cell_type": "code",
      "source": [
        "nome"
      ],
      "metadata": {
        "colab": {
          "base_uri": "https://localhost:8080/",
          "height": 35
        },
        "id": "9agXR3h3QIBM",
        "outputId": "809c1be6-dc34-4224-80bc-edf73f670102"
      },
      "execution_count": 30,
      "outputs": [
        {
          "output_type": "execute_result",
          "data": {
            "text/plain": [
              "'Thomas'"
            ],
            "application/vnd.google.colaboratory.intrinsic+json": {
              "type": "string"
            }
          },
          "metadata": {},
          "execution_count": 30
        }
      ]
    },
    {
      "cell_type": "code",
      "source": [
        "idade = int(input('Digite sua idade '))"
      ],
      "metadata": {
        "colab": {
          "base_uri": "https://localhost:8080/"
        },
        "id": "ZTsSbhIwQLwM",
        "outputId": "9c4371b5-1f48-4f9f-c121-26f69e3d2803"
      },
      "execution_count": 33,
      "outputs": [
        {
          "name": "stdout",
          "output_type": "stream",
          "text": [
            "Digite sua idade 15\n"
          ]
        }
      ]
    },
    {
      "cell_type": "code",
      "source": [
        "idade"
      ],
      "metadata": {
        "colab": {
          "base_uri": "https://localhost:8080/"
        },
        "id": "fW2A6GTIQ7pO",
        "outputId": "f56c2e9c-ca03-44fe-c3ab-e8a0b3f4ec05"
      },
      "execution_count": 35,
      "outputs": [
        {
          "output_type": "execute_result",
          "data": {
            "text/plain": [
              "15"
            ]
          },
          "metadata": {},
          "execution_count": 35
        }
      ]
    },
    {
      "cell_type": "code",
      "source": [
        "type(idade)"
      ],
      "metadata": {
        "colab": {
          "base_uri": "https://localhost:8080/"
        },
        "id": "U_AjqRhNQYJN",
        "outputId": "a670cb6d-4b93-4d75-ae5a-caa1fa7faa1b"
      },
      "execution_count": 34,
      "outputs": [
        {
          "output_type": "execute_result",
          "data": {
            "text/plain": [
              "int"
            ]
          },
          "metadata": {},
          "execution_count": 34
        }
      ]
    },
    {
      "cell_type": "code",
      "source": [
        "ano_nasc = 2023 - idade"
      ],
      "metadata": {
        "id": "gGIQGSukQeyN"
      },
      "execution_count": 36,
      "outputs": []
    },
    {
      "cell_type": "code",
      "source": [
        "ano_nasc"
      ],
      "metadata": {
        "colab": {
          "base_uri": "https://localhost:8080/"
        },
        "id": "438SYoNVRgeC",
        "outputId": "d9fe4863-50f2-4052-86c7-4b32f51534aa"
      },
      "execution_count": 37,
      "outputs": [
        {
          "output_type": "execute_result",
          "data": {
            "text/plain": [
              "2008"
            ]
          },
          "metadata": {},
          "execution_count": 37
        }
      ]
    },
    {
      "cell_type": "code",
      "source": [
        "print(\"Olá, {}! Você tem {} anos de idade e você nasceu em {}\".format(nome,idade,ano_nasc))"
      ],
      "metadata": {
        "colab": {
          "base_uri": "https://localhost:8080/"
        },
        "id": "2jLpUDX8Ripq",
        "outputId": "a77360d3-3935-4d8c-e9e5-40b1749e74e1"
      },
      "execution_count": 39,
      "outputs": [
        {
          "output_type": "stream",
          "name": "stdout",
          "text": [
            "Olá, Thomas! Você tem 15 anos de idade e você nasceu em 2008\n"
          ]
        }
      ]
    },
    {
      "cell_type": "markdown",
      "source": [
        "**Exercício 01**\n",
        "Receba 3 valores digitados via teclado e calcule a média destes valores. Exiba na tela da seguinte forma:'A média dos valores digitados é XXX'"
      ],
      "metadata": {
        "id": "gRUB6Kr-T0ru"
      }
    },
    {
      "cell_type": "code",
      "source": [
        "num1 = int(input(\"Digite o priemiro valor: \"))"
      ],
      "metadata": {
        "colab": {
          "base_uri": "https://localhost:8080/"
        },
        "id": "CKZbLBMcUPde",
        "outputId": "3673849f-f652-48c3-81c9-0cab6b497bee"
      },
      "execution_count": 40,
      "outputs": [
        {
          "name": "stdout",
          "output_type": "stream",
          "text": [
            "Digite o priemiro valor: 6\n"
          ]
        }
      ]
    },
    {
      "cell_type": "code",
      "source": [
        "num2 = int(input(\"Digite o segundo valor: \"))"
      ],
      "metadata": {
        "colab": {
          "base_uri": "https://localhost:8080/"
        },
        "id": "kPi_DgTeUh8e",
        "outputId": "07099f4c-9d1c-4d59-feb5-09e73cc887fb"
      },
      "execution_count": 41,
      "outputs": [
        {
          "name": "stdout",
          "output_type": "stream",
          "text": [
            "Digite o segundo valor: 4\n"
          ]
        }
      ]
    },
    {
      "cell_type": "code",
      "source": [
        "num3 = int(input(\"Digite o terceiro valor: \"))"
      ],
      "metadata": {
        "colab": {
          "base_uri": "https://localhost:8080/"
        },
        "id": "CQQjtQBqUssy",
        "outputId": "785031d7-38d9-4278-8ef1-18eb496e9915"
      },
      "execution_count": 42,
      "outputs": [
        {
          "name": "stdout",
          "output_type": "stream",
          "text": [
            "Digite o terceiro valor: 7\n"
          ]
        }
      ]
    },
    {
      "cell_type": "code",
      "source": [
        "media = (num1 + num2 + num3) / 3\n",
        "print(\"Olá! A média de {}, {} e {} é {}\".format(num1,num2,num3,round(media,2)))"
      ],
      "metadata": {
        "colab": {
          "base_uri": "https://localhost:8080/"
        },
        "id": "PSgKPbEsU0Ba",
        "outputId": "58678928-2fa3-4ea2-83ba-3722eb0f898c"
      },
      "execution_count": 44,
      "outputs": [
        {
          "output_type": "stream",
          "name": "stdout",
          "text": [
            "Olá! A média de 6, 4 e 7 é 5.67\n"
          ]
        }
      ]
    },
    {
      "cell_type": "markdown",
      "source": [
        "**Nota:**\n",
        "podemos converter para inteiro utilizando:int(),\n",
        "podemos converter para decimal utilizando:float(),\n",
        "podemos converter para String utilizando: str()."
      ],
      "metadata": {
        "id": "TqxtPEy6Wq3U"
      }
    },
    {
      "cell_type": "markdown",
      "source": [
        "**Exercício 2:**\n",
        "Solicite a Largura e a Altura de uma parede. Sabendo que 1 litro de tinta consegue pintar 2m ao quadrado de parede, informe quantos litros de tinta serão necessários para pintar a parede informada.\n"
      ],
      "metadata": {
        "id": "6I13gj1DeD_i"
      }
    },
    {
      "cell_type": "code",
      "source": [
        "largura = float(input(\"Digite a largura da parede: \"))\n",
        "altura = float(input(\"Digite a altura da parede\"))\n",
        "area = largura * altura\n",
        "para_pintar = area / 2\n",
        "print(\"Nesta parede de {} de área, será preciso {} litros de tinta.\".format(area,para_pintar))"
      ],
      "metadata": {
        "colab": {
          "base_uri": "https://localhost:8080/"
        },
        "id": "sxpteZtJgMy7",
        "outputId": "3f35c361-3805-4b30-d434-5bceb88f86c2"
      },
      "execution_count": 46,
      "outputs": [
        {
          "output_type": "stream",
          "name": "stdout",
          "text": [
            "Digite a largura da parede: 1.8\n",
            "Digite a altura da parede5.5\n",
            "Nesta parede de 9.9 de área, será preciso 4.95 litros de tinta.\n"
          ]
        }
      ]
    }
  ]
}